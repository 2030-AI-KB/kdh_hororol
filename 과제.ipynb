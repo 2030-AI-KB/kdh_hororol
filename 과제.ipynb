{
 "cells": [
  {
   "cell_type": "code",
   "execution_count": null,
   "metadata": {
    "colab": {
     "base_uri": "https://localhost:8080/",
     "height": 36
    },
    "id": "d18yMxpsozBR",
    "outputId": "a8aa63e1-8fab-49af-d478-142e7fc559ae"
   },
   "outputs": [
    {
     "name": "stdout",
     "output_type": "stream",
     "text": [
      "20\n"
     ]
    }
   ],
   "source": [
    "print(10+10)"
   ]
  },
  {
   "cell_type": "code",
   "execution_count": null,
   "metadata": {
    "colab": {
     "base_uri": "https://localhost:8080/",
     "height": 36
    },
    "id": "nhs8l7zhpHuS",
    "outputId": "0a258dcf-74b3-4cc0-eace-b58149d650a1"
   },
   "outputs": [
    {
     "name": "stdout",
     "output_type": "stream",
     "text": [
      "hello world\n"
     ]
    }
   ],
   "source": [
    "print('hello world')"
   ]
  },
  {
   "cell_type": "markdown",
   "metadata": {
    "id": "LpNmx26hsyTc"
   },
   "source": []
  },
  {
   "cell_type": "code",
   "execution_count": null,
   "metadata": {
    "colab": {
     "base_uri": "https://localhost:8080/",
     "height": 55
    },
    "id": "HC_MX8ZLsONl",
    "outputId": "8e752947-ea22-443c-f401-937e5151330b"
   },
   "outputs": [
    {
     "name": "stdout",
     "output_type": "stream",
     "text": [
      "값을 입력하세요 :10\n"
     ]
    },
    {
     "data": {
      "text/plain": [
       "str"
      ]
     },
     "execution_count": 6,
     "metadata": {
      "tags": []
     },
     "output_type": "execute_result"
    }
   ],
   "source": [
    "a =input('값을 입력하세요 :')\n",
    "type(a)"
   ]
  },
  {
   "cell_type": "code",
   "execution_count": null,
   "metadata": {
    "colab": {
     "base_uri": "https://localhost:8080/",
     "height": 35
    },
    "id": "5aqocX-Dtalg",
    "outputId": "6d28778b-aefc-4df6-9415-90bfcd8a4e09"
   },
   "outputs": [
    {
     "name": "stdout",
     "output_type": "stream",
     "text": [
      "['1', '2']\n"
     ]
    }
   ],
   "source": [
    "a = ['1', '2','3']\n",
    "print(a[0:2])\n",
    "\n"
   ]
  },
  {
   "cell_type": "code",
   "execution_count": null,
   "metadata": {
    "colab": {
     "base_uri": "https://localhost:8080/",
     "height": 53
    },
    "id": "koOMF-bBu1r2",
    "outputId": "95c7371f-73ad-4dbe-aa55-356ff3b9cb4f"
   },
   "outputs": [
    {
     "name": "stdout",
     "output_type": "stream",
     "text": [
      "20\n",
      "10\n"
     ]
    }
   ],
   "source": [
    "a = 10\n",
    "b =20\n",
    "temp = a\n",
    "a = b\n",
    "b = temp\n",
    "\n",
    "print(a)\n",
    "print(b)\n",
    "\n"
   ]
  },
  {
   "cell_type": "code",
   "execution_count": null,
   "metadata": {
    "colab": {
     "base_uri": "https://localhost:8080/",
     "height": 70
    },
    "id": "4NqR5Q3n6SDb",
    "outputId": "bcfca663-6a26-45d3-bf40-0a7e318052f3"
   },
   "outputs": [
    {
     "name": "stdout",
     "output_type": "stream",
     "text": [
      "처음 수를 입력하세요:1\n",
      "기호를 입력하세요:+\n",
      "다음 수를 입력하세요:1\n"
     ]
    }
   ],
   "source": [
    "num1 = input('처음 수를 입력하세요:' )\n",
    "opt = input('기호를 입력하세요:')\n",
    "num2 = input('다음 수를 입력하세요:')\n",
    "\n",
    "if opt == '+':\n",
    "  res = int(num1) + int(num2)\n",
    "elif opt == '-':\n",
    "  res = int(num1) - int(num2)\n",
    "elif opt == '*':\n",
    "  res = int(num1) * int(num2)\n",
    "elif opt == '/':\n",
    "  res = int(num1) / int(num2)\n",
    "else:\n",
    "  print('잘못입력하셨습니다.')\n",
    "\n",
    "  print(res)  \n",
    "\n"
   ]
  },
  {
   "cell_type": "code",
   "execution_count": null,
   "metadata": {
    "colab": {
     "base_uri": "https://localhost:8080/",
     "height": 52
    },
    "id": "ewQSIvNz5rAN",
    "outputId": "cd65fe5c-826c-482d-f9e1-2a0dd3de4e01"
   },
   "outputs": [
    {
     "name": "stdout",
     "output_type": "stream",
     "text": [
      "namecard\n",
      "김홍근\n"
     ]
    }
   ],
   "source": [
    "item = input()\n",
    "pocket ={'cellphone':'010-6886-3882.', 'namecard':'김홍근','money':'10000', 'creditcard':'visa'}\n",
    "if item in pocket:\n",
    "  if 'cellphone' == item:\n",
    "      print(pocket.get(item))\n",
    "  elif 'namecard' == item:\n",
    "      print(pocket[item])\n",
    "  elif 'money' == item:\n",
    "     print(pocket.get(item))\n",
    "     if int(pocket[item]) > 20000 or 'creditcard' in pocket:\n",
    "        print('돈이 많으시군요.'+ '맛난거 사주세요')\n",
    "     else:\n",
    "        print('금액이 적습니다.')\n",
    "else:\n",
    "    print('해당하는 아이템이 없습니다.')\n"
   ]
  },
  {
   "cell_type": "code",
   "execution_count": null,
   "metadata": {
    "colab": {
     "base_uri": "https://localhost:8080/",
     "height": 233
    },
    "id": "srr_yFgorDP7",
    "outputId": "179ff3fc-f8ee-4eca-9c5d-84ddd0fbecfa"
   },
   "outputs": [
    {
     "name": "stdout",
     "output_type": "stream",
     "text": [
      "교과목을 입력하세요 : 국어\n",
      "score : 50\n",
      "score : 65\n",
      "score : 43\n",
      "교과목을 입력하세요 : 영어\n",
      "score : 55\n",
      "score : 88\n",
      "score : 99\n",
      "합산할 과목을 입력해주세요 : 영어\n",
      "영어 과목의 합계는 242 입니다.\n",
      "영어 과목의 평균점수는 80.667 입니다.\n",
      "{'국어': [50, 65, 43], '영어': [55, 88, 99]}\n"
     ]
    }
   ],
   "source": [
    "subject = {}\n",
    "result = 0\n",
    "avr = 0\n",
    "for i in range(1,2):\n",
    "  score = []\n",
    "  name = input('교과목을 입력하세요 : ') \n",
    "  for j in range(3):\n",
    "    x = int(input('score : '))\n",
    "    score.append(x) \n",
    "    subject[name] = score\n",
    "\n",
    "sub = input('합산할 과목을 입력해주세요 : ')\n",
    "if sub in subject:\n",
    "  res = subject[sub]\n",
    "  for i in range(len(res)):\n",
    "     result +=res[i]\n",
    "\n",
    "  print(sub,'과목의 합계는', result,'입니다.')\n",
    "  avg = result / len(res)\n",
    "  print(sub,'과목의 평균점수는', round(avg,3),'입니다.')\n",
    "else:\n",
    "  print('합산할 과목이 없습니다.')\n",
    "\n",
    "print(subject)\n",
    "\n"
   ]
  },
  {
   "cell_type": "code",
   "execution_count": null,
   "metadata": {
    "colab": {
     "base_uri": "https://localhost:8080/",
     "height": 35
    },
    "id": "jsugwkq8gxTV",
    "outputId": "309a37ff-903d-436e-b93e-22215e4f98e6"
   },
   "outputs": [
    {
     "name": "stdout",
     "output_type": "stream",
     "text": [
      "3\n"
     ]
    }
   ],
   "source": [
    "word = 'banana'\n",
    "count = 0\n",
    "for a in word:\n",
    "  if a == 'a':\n",
    "    count = count +1\n",
    "\n",
    "print(count)\n",
    "\n"
   ]
  },
  {
   "cell_type": "code",
   "execution_count": 16,
   "metadata": {
    "colab": {
     "base_uri": "https://localhost:8080/",
     "height": 35
    },
    "id": "w8wUd9XYiJK1",
    "outputId": "0a4a73e1-e0f7-433e-8423-bd1fb09ab136"
   },
   "outputs": [
    {
     "name": "stdout",
     "output_type": "stream",
     "text": [
      "출력하고 싶은 단을 입력해주세요: 3\n",
      "1  x  1  =  1\n",
      "1  x  2  =  2\n",
      "1  x  3  =  3\n",
      "1  x  4  =  4\n",
      "1  x  5  =  5\n",
      "1  x  6  =  6\n",
      "1  x  7  =  7\n",
      "1  x  8  =  8\n",
      "1  x  9  =  9\n",
      "\n",
      "\n",
      "2  x  1  =  2\n",
      "2  x  2  =  4\n",
      "2  x  3  =  6\n",
      "2  x  4  =  8\n",
      "2  x  5  =  10\n",
      "2  x  6  =  12\n",
      "2  x  7  =  14\n",
      "2  x  8  =  16\n",
      "2  x  9  =  18\n",
      "\n",
      "\n",
      "3  x  1  =  3\n",
      "3  x  2  =  6\n",
      "3  x  3  =  9\n",
      "3  x  4  =  12\n",
      "3  x  5  =  15\n",
      "3  x  6  =  18\n",
      "3  x  7  =  21\n",
      "3  x  8  =  24\n",
      "3  x  9  =  27\n",
      "\n",
      "\n"
     ]
    }
   ],
   "source": [
    "#Missoin_1.  구구단프로그램을 작성해주세요. 단을 입력하면 입력받은 단까지 모두 출력해주세요.\n",
    "x = int(input(\"출력하고 싶은 단을 입력해주세요: \")) # 먼저 출력하고 싶은 단을 입력받는다\n",
    "for i in range(1, x+1):\n",
    "    for j in range(1, 10):\n",
    "        rs = i * j \n",
    "        print(i, \" x \", j, \" = \", rs)\n",
    "    print(\"\\n\")"
   ]
  },
  {
   "cell_type": "code",
   "execution_count": 20,
   "metadata": {
    "id": "CXEM8Q6lB933"
   },
   "outputs": [
    {
     "name": "stdout",
     "output_type": "stream",
     "text": [
      "정수를 입력해수세요: 1\n",
      "정수를 입력해수세요: 2\n",
      "정수를 입력해수세요: 3\n",
      "정수를 입력해수세요: 4\n",
      "정수를 입력해수세요: 5\n",
      "정수를 입력해수세요: 6\n",
      "정수를 입력해수세요: 7\n",
      "정수를 입력해수세요: 8\n",
      "정수를 입력해수세요: 9\n",
      "정수를 입력해수세요: 10\n",
      "정수를 입력해수세요: 11\n",
      "정수를 입력해수세요: 12\n",
      "정수를 입력해수세요: 13\n",
      "정수를 입력해수세요: 14\n",
      "정수를 입력해수세요: 15\n",
      "정수를 입력해수세요: 16\n",
      "정수를 입력해수세요: 17\n",
      "정수를 입력해수세요: 18\n",
      "정수를 입력해수세요: 19\n",
      "정수를 입력해수세요: 20\n",
      "짝수의 합이 더 큽니다.\n"
     ]
    }
   ],
   "source": [
    "#Missoin_2.  20개의 정수를 입력 받아서 짝수와 홀수를 구분하여 저장해주세요. \n",
    "#           저장된 수의 총합이 얼마인지와 짝수의 합이 큰지 홀수의 합이 큰지를 알려주는 코드를 작성해주세요 \n",
    "count = 0\n",
    "even = 0\n",
    "odd = 0\n",
    "\n",
    "while count < 20:\n",
    "    x = int(input(\"정수를 입력해수세요: \"))\n",
    "    if(x%2 == 0):\n",
    "        even += x\n",
    "    else:\n",
    "        odd += x\n",
    "    count += 1\n",
    "    \n",
    "if even < odd:\n",
    "    print(\"홀수의 합이 더 큽니다.\")\n",
    "else:\n",
    "    print(\"짝수의 합이 더 큽니다.\")"
   ]
  },
  {
   "cell_type": "code",
   "execution_count": 24,
   "metadata": {
    "id": "V40v5PnzCFS1"
   },
   "outputs": [
    {
     "name": "stdout",
     "output_type": "stream",
     "text": [
      "오늘의 기분을 숫자로 나타낸다면? 11\n",
      "집에 가고싶습니다\n"
     ]
    }
   ],
   "source": [
    "#Mission_3. 오늘의 기분을 입력받아서 입력한 기분 값이 10를 넘으면 그 기분에 맞는 내용을 알려주는 코드를 작성해주세요.\n",
    "x = int(input(\"오늘의 기분을 숫자로 나타낸다면? \"))\n",
    "if x > 10:\n",
    "    print(\"집에 가고싶습니다\")"
   ]
  },
  {
   "cell_type": "code",
   "execution_count": 35,
   "metadata": {
    "id": "9jH4mjmmCGk9"
   },
   "outputs": [
    {
     "name": "stdout",
     "output_type": "stream",
     "text": [
      "성적을 입력해주세요: 95\n",
      "성적을 입력해주세요: 62\n",
      "성적을 입력해주세요: 54\n",
      "성적을 입력해주세요: 56\n",
      "성적을 입력해주세요: 62\n",
      "95\n",
      "54\n",
      "입력한 성적중 1번째 점수가 가장 높은 95입니다.\n",
      "입력한 성적중 3번째 점수가 가장 낮은 54입니다.\n"
     ]
    }
   ],
   "source": [
    "#Mission_4. 아래의 코드를 보고 입력받은 5개의 성적을 기준을 작성하여 코드를 완성해주세요..\n",
    "#           단, 아래의 코드는 변경이 불가능합니다.\n",
    "\n",
    "scores = []\n",
    "\n",
    "for x in range(5):\n",
    "    sc = int(input(\"성적을 입력해주세요: \"))\n",
    "    scores.append(sc)\n",
    "\n",
    "mx_score = max(scores)\n",
    "min_score = min(scores)\n",
    "\n",
    "mx_index = scores.index(mx_score) + 1\n",
    "min_index = scores.index(min_score) + 1\n",
    "print( \"입력한 성적중 \"+ str(mx_index) + \"번째 점수가 가장 높은 \"+ str(mx_score) + \"입니다.\")\n",
    "print( \"입력한 성적중 \"+ str(min_index) + \"번째 점수가 가장 낮은 \"+ str(min_score) + \"입니다.\")\n",
    "# 입력한 성적중 #번째 점수가 가장 높은 #점입니다.\n"
   ]
  },
  {
   "cell_type": "code",
   "execution_count": null,
   "metadata": {
    "id": "ZnLJeuArCKV3"
   },
   "outputs": [],
   "source": [
    "#Mission_5. 아래의 Song의 내용을 분석할 수 있는 코드를 작성하여 정략적 수치를 통해 의견을 작성해주세요..\n",
    "\n",
    "# [의견 작성]\n",
    "#\n",
    "\n",
    "\n",
    "song = \"\"\"Fuck you and your mom and your sister and your job and your broke ass car and that shit you call art\n",
    "       fuck you And your friends that i'll never see again everybody but your dog you can all FUCK OFF i swear i meant to mean the best when it ended even try to bite my tongue when you start shit\n",
    "       now you're texting all my friends asking questions hey never even liked you in the first place\"\"\"\n"
   ]
  },
  {
   "cell_type": "code",
   "execution_count": null,
   "metadata": {
    "id": "SXEYRt6yCNjN"
   },
   "outputs": [],
   "source": [
    "#Mission_6. 이름과 점수를 입력하면 학점을 반환하여 저장하는 코드를 작성해주세요."
   ]
  },
  {
   "cell_type": "code",
   "execution_count": null,
   "metadata": {
    "id": "vsnGlBU2CQKL"
   },
   "outputs": [],
   "source": [
    "#Mission_7. 피보나치수열은 첫째 및 둘째 항이 1이며 그 뒤의 모든 항은 바로 앞 두 항의 합인 수열이다.\n",
    "#           수열을 코드로 작성해주세요."
   ]
  },
  {
   "cell_type": "code",
   "execution_count": 62,
   "metadata": {
    "id": "wQMqbee0CTRV"
   },
   "outputs": [
    {
     "name": "stdout",
     "output_type": "stream",
     "text": [
      "100보다 작은 자연수 중에서 3 또는 5의 배수를 모두 더한 값은  233168 입니다\n"
     ]
    }
   ],
   "source": [
    "#Missoin_8. 아래의 내용을 보고 결과를 출력하는 코드를 작성해주세요.\n",
    "'''10보다 작은 자연수 중에서 3 또는 5의 배수는 3, 5, 6, 9 이고, 이것을 모두 더하면 23입니다.\n",
    "   1000보다 작은 자연수 중에서 3 또는 5의 배수를 모두 더하면 얼마일까요?'''\n",
    "sum = 0\n",
    "for x in range(1000):\n",
    "    if x%3 == 0 or x%5 == 0:\n",
    "        sum += x\n",
    "        \n",
    "print(\"100보다 작은 자연수 중에서 3 또는 5의 배수를 모두 더한 값은 \", sum, \"입니다\")"
   ]
  },
  {
   "cell_type": "code",
   "execution_count": 52,
   "metadata": {
    "id": "-zRg-hnmCVBD"
   },
   "outputs": [
    {
     "name": "stdout",
     "output_type": "stream",
     "text": [
      "가위~바위~보~: 가위\n",
      "가위  vs  가위\n",
      "비겼다! 다시 한번 더~\n",
      "\n",
      "가위~바위~보~: 바위\n",
      "바위  vs  바위\n",
      "비겼다! 다시 한번 더~\n",
      "\n",
      "가위~바위~보~: 보\n",
      "가위  vs  보\n",
      "졌다..\n",
      "축하합니다!!  0 번 이겼습니다~!\n"
     ]
    }
   ],
   "source": [
    "#Mission_9. 가위,바위,보 게임을 만들어주세요.. (이긴 횟수를 알려주세요.)\n",
    "import random\n",
    "count =  0\n",
    "rps = [\"가위\", \"바위\", \"보\"]\n",
    "while True:\n",
    "    x = input(\"가위~바위~보~: \")\n",
    "    ai = random.choice(rps)\n",
    "    print(ai, \" vs \", x)\n",
    "    \n",
    "    if ai == \"가위\" and x == \"바위\":\n",
    "        print(\"이겼다!!\\n\")\n",
    "        count += 1\n",
    "    elif ai == \"바위\" and x == \"보\":\n",
    "        print(\"이겼다!!\\n\")\n",
    "        count += 1\n",
    "    elif ai == \"보\" and x == \"가위\":\n",
    "        print(\"이겼다!!\\n\")\n",
    "        count += 1\n",
    "    elif ai == x:\n",
    "        print(\"비겼다! 다시 한번 더~\\n\")\n",
    "        continue\n",
    "    else:\n",
    "        print(\"졌다..\")\n",
    "        break\n",
    "        \n",
    "print(\"축하합니다!! \", count, \"번 이겼습니다~!\")"
   ]
  },
  {
   "cell_type": "code",
   "execution_count": 69,
   "metadata": {
    "id": "suxKQum6CXXz"
   },
   "outputs": [
    {
     "name": "stdout",
     "output_type": "stream",
     "text": [
      "현재 소지하고 있는 금액은? 1650\n",
      "8 잔을 뽑을 수 있으며,  50 원의 잔액이 발생합니다.\n"
     ]
    }
   ],
   "source": [
    "#Mission_10. 커피 자판기의 계산프로그램을 만들려고 합니다.(최대 15잔을 뽑을 수 있어요. 잔당 200원)\n",
    "#            돈을 값을 입력 받으면 커피를 뽑을 수 있는 잔수와 잔액을 알려주시면 됩니다. \n",
    "money = int(input(\"현재 소지하고 있는 금액은? \"))\n",
    "div = int(money / 200)\n",
    "mod = money % 200\n",
    "\n",
    "if div > 15:\n",
    "    print(\"최대 15잔이상 뽑을 수 있습니다.\")\n",
    "else:\n",
    "    print(\"커피\", div,\"잔을 뽑을 수 있으며, \", mod, \"원의 잔액이 발생합니다.\")"
   ]
  },
  {
   "cell_type": "code",
   "execution_count": null,
   "metadata": {},
   "outputs": [],
   "source": []
  },
  {
   "cell_type": "code",
   "execution_count": null,
   "metadata": {},
   "outputs": [],
   "source": []
  }
 ],
 "metadata": {
  "colab": {
   "provenance": []
  },
  "kernelspec": {
   "display_name": "Python 3 (ipykernel)",
   "language": "python",
   "name": "python3"
  },
  "language_info": {
   "codemirror_mode": {
    "name": "ipython",
    "version": 3
   },
   "file_extension": ".py",
   "mimetype": "text/x-python",
   "name": "python",
   "nbconvert_exporter": "python",
   "pygments_lexer": "ipython3",
   "version": "3.10.9"
  }
 },
 "nbformat": 4,
 "nbformat_minor": 1
}
