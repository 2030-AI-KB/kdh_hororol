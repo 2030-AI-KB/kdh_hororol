{
 "cells": [
  {
   "cell_type": "code",
   "execution_count": 1,
   "id": "36da3fae",
   "metadata": {
    "scrolled": true
   },
   "outputs": [
    {
     "name": "stdout",
     "output_type": "stream",
     "text": [
      "input num :1\n",
      "<class 'str'>\n"
     ]
    }
   ],
   "source": [
    "num = input(\"input num :\")\n",
    "print(type(num))"
   ]
  },
  {
   "cell_type": "code",
   "execution_count": 9,
   "id": "dda58120",
   "metadata": {
    "scrolled": true
   },
   "outputs": [
    {
     "name": "stdout",
     "output_type": "stream",
     "text": [
      "input num1 :9\n",
      "input num2 :5\n",
      "입력한 두수를 연산한 결과 몫 :  1\n",
      "입력한 두수를 연산한 결과 나머지 :  4\n"
     ]
    }
   ],
   "source": [
    "#mission_1 : 원하는 두수를 입력받아서 몫과 나머지를 구하는 프로그래밍을 해주세요.\n",
    "num1 = int(input(\"input num1 :\"))\n",
    "num2 = int(input(\"input num2 :\"))\n",
    "rs = divmod(num1, num2) #rs는 튜플로 구성되어있다. rs를 리스트로 볼려고한다. \n",
    "print(\"입력한 두수를 연산한 결과 몫 : \", rs[0]) #print (문자열, 숫자) -> 인자를 두개 받아 출력하겠다\n",
    "print(\"입력한 두수를 연산한 결과 나머지 : \", rs[1])"
   ]
  },
  {
   "cell_type": "code",
   "execution_count": 7,
   "id": "b690f4b9",
   "metadata": {},
   "outputs": [
    {
     "name": "stdout",
     "output_type": "stream",
     "text": [
      "num1을 입력해주세요. : 9\n",
      "num2를 입력해주세요. : 5\n",
      "두수의 합 :  14\n",
      "두수의 차 :  4\n",
      "두수의 곱 :  45\n",
      "두수의 몫 :  1.8\n"
     ]
    },
    {
     "data": {
      "text/plain": [
       "float"
      ]
     },
     "execution_count": 7,
     "metadata": {},
     "output_type": "execute_result"
    }
   ],
   "source": [
    "#mission_2 : 원하는 두수를 입력받아서 사칙연산한 결과를 보여주는 프로그래밍을 해주세요.\n",
    "num1 = int(input(\"num1을 입력해주세요. : \"))\n",
    "num2 = int(input(\"num2를 입력해주세요. : \"))\n",
    "add = num1 + num2\n",
    "sub = num1 - num2\n",
    "mul = num1 * num2\n",
    "div = num1 / num2\n",
    "print(\"두수의 합 : \", add)\n",
    "print(\"두수의 차 : \", sub)\n",
    "print(\"두수의 곱 : \", mul)\n",
    "print(\"두 수를 나눈 몫 : \", div)\n",
    "\n",
    "#함수 안에서 연산을 하지마! 그러므로 아래처럼 작성하지마라!\n",
    "print(\"덧셈: \", num1+ num2, \"\\n뺄셈: \", num1-num2, \"\\n곱셈: \", num1*num2, \"\\n나눗셈: \", num1/num2)"
   ]
  },
  {
   "cell_type": "code",
   "execution_count": 6,
   "id": "3f537c2b",
   "metadata": {},
   "outputs": [
    {
     "name": "stdout",
     "output_type": "stream",
     "text": [
      "num1을 입력해주세요. : 9\n",
      "num2를 입력해주세요. : 3\n",
      "두수의 합은 :  12\n"
     ]
    }
   ],
   "source": [
    "num1 = int(input(\"num1을 입력해주세요. : \"))\n",
    "num2 = int(input(\"num2를 입력해주세요. : \"))\n",
    "print(\"두수의 합은 : \" , (num1+num2))"
   ]
  },
  {
   "cell_type": "code",
   "execution_count": 8,
   "id": "7d5456c3",
   "metadata": {},
   "outputs": [
    {
     "name": "stdout",
     "output_type": "stream",
     "text": [
      "It`s a yeti.\n"
     ]
    }
   ],
   "source": [
    "furry = True\n",
    "large = True\n",
    "if furry:\n",
    "    if large:\n",
    "        print(\"It`s a yeti.\")\n",
    "    else:\n",
    "        print(\"It`s a cat!\")\n",
    "else:\n",
    "    if large:\n",
    "        print(\"It`s a whale!\")\n",
    "    else:\n",
    "        print(\"It`s a human. Or a hairless cat.\")"
   ]
  },
  {
   "cell_type": "code",
   "execution_count": 6,
   "id": "fda8e260",
   "metadata": {},
   "outputs": [
    {
     "name": "stdout",
     "output_type": "stream",
     "text": [
      "지금 소지하고 있는  금액: 1500\n",
      "걸어가라\n"
     ]
    }
   ],
   "source": [
    "# 주머니에 3000원이 있습니다. 버스를 타면 1000원\n",
    "# 택시를 타면 2000원입니다. 저는 1000원짜리 커피를 먹게 되면\n",
    "# 어떤 교통 수단을 활용하면 좋을까요?\n",
    "\n",
    "money = int(input(\"지금 소지하고 있는  금액: \"))\n",
    "coffee = 1500\n",
    "\n",
    "money -= coffee\n",
    "if money >= 1000:\n",
    "    dec = input(\"커피를 샀나요? (Y/N) : \")\n",
    "    if dec == \"Y\":\n",
    "        if money >= 2000:\n",
    "            print(\"Taxi 타고가세요\")\n",
    "        else:\n",
    "            print(\"버스타고 가세요\")\n",
    "    else:\n",
    "         if money >= 2000:\n",
    "            print(\"Taxi 타고가세요\")\n",
    "         else:\n",
    "            print(\"버스타고 가세요\")\n",
    "else:\n",
    "    print(\"걸어가라\")"
   ]
  },
  {
   "cell_type": "code",
   "execution_count": 7,
   "id": "0f1464c5",
   "metadata": {},
   "outputs": [
    {
     "name": "stdout",
     "output_type": "stream",
     "text": [
      "지금 소지하고 있는  금액: 2000\n",
      "걸어가라\n"
     ]
    }
   ],
   "source": [
    "# mission_3\n",
    "# 주머니에 3000원이 있습니다. 버스를 타면 1000원\n",
    "# 택시를 타면 2000원입니다. 저는 1000원짜리 커피를 먹게 되면\n",
    "# 어떤 교통 수단을 활용하면 좋을까요?\n",
    "\n",
    "money = int(input(\"지금 소지하고 있는  금액: \"))\n",
    "coffee = 1500\n",
    "\n",
    "money -= coffee\n",
    "if money >= 1000:\n",
    "    dec = input(\"커피를 샀나요? (Y/N) : \")\n",
    "    if dec == \"Y\":\n",
    "        if money >= 2000:\n",
    "            print(\"Taxi 타고가세요\")\n",
    "        else:\n",
    "            print(\"버스타고 가세요\")\n",
    "    else:\n",
    "         if money >= 2000:\n",
    "            print(\"Taxi 타고가세요\")\n",
    "         else:\n",
    "            print(\"버스타고 가세요\")\n",
    "else:\n",
    "    print(\"걸어가라\")"
   ]
  },
  {
   "cell_type": "code",
   "execution_count": 3,
   "id": "188cdb2d",
   "metadata": {},
   "outputs": [
    {
     "name": "stdout",
     "output_type": "stream",
     "text": [
      "num1을 입력해주세요. : 85\n",
      "num2를 입력해주세요. : 2\n",
      "사칙연산자를 입력해주세요 : /\n",
      "두 수를 나눈 몫:  42.5\n"
     ]
    }
   ],
   "source": [
    "#mission_4 : 원하는 두수를 입력받고 사칙연산자를 넣으면 그 결과를 보여주는 프로그래밍을 해주세요.\n",
    "num1 = int(input(\"num1을 입력해주세요. : \"))\n",
    "num2 = int(input(\"num2를 입력해주세요. : \"))\n",
    "op = input(\"사칙연산자를 입력해주세요 : \")\n",
    "\n",
    "add = num1 + num2\n",
    "sub = num1 - num2 \n",
    "mul = num1 * num2\n",
    "div = num1 / num2\n",
    "if op == \"+\":\n",
    "    print(\"두 수의 합: \", add)\n",
    "elif op == \"-\":\n",
    "    print(\"두 수의 차: \", sub)\n",
    "elif op == \"*\":\n",
    "    print(\"두 수의 곱: \", mul)\n",
    "else:\n",
    "    print(\"두 수를 나눈 몫: \", div)\n"
   ]
  },
  {
   "cell_type": "code",
   "execution_count": null,
   "id": "f76a4a77",
   "metadata": {},
   "outputs": [],
   "source": []
  }
 ],
 "metadata": {
  "kernelspec": {
   "display_name": "Python 3 (ipykernel)",
   "language": "python",
   "name": "python3"
  },
  "language_info": {
   "codemirror_mode": {
    "name": "ipython",
    "version": 3
   },
   "file_extension": ".py",
   "mimetype": "text/x-python",
   "name": "python",
   "nbconvert_exporter": "python",
   "pygments_lexer": "ipython3",
   "version": "3.10.9"
  }
 },
 "nbformat": 4,
 "nbformat_minor": 5
}
